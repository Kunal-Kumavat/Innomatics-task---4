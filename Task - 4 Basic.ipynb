{
 "cells": [
  {
   "cell_type": "markdown",
   "id": "5f228abb",
   "metadata": {},
   "source": [
    "# Task 4 Basic"
   ]
  },
  {
   "cell_type": "markdown",
   "id": "7b894221",
   "metadata": {},
   "source": [
    "### swap case"
   ]
  },
  {
   "cell_type": "code",
   "execution_count": null,
   "id": "6d2e66fb",
   "metadata": {},
   "outputs": [],
   "source": [
    "def swap_case(s):\n",
    "    return s.swapcase()\n",
    "\n",
    "if __name__ == '__main__':\n",
    "    s = input()\n",
    "    result = swap_case(s)\n",
    "    print(result)"
   ]
  },
  {
   "cell_type": "markdown",
   "id": "3da69c3b",
   "metadata": {},
   "source": [
    "### string split and join"
   ]
  },
  {
   "cell_type": "code",
   "execution_count": null,
   "id": "81b0ca8e",
   "metadata": {},
   "outputs": [],
   "source": [
    "def split_and_join(line):\n",
    "    line = line.split(' ')\n",
    "    ans = \"-\".join(line)\n",
    "    return ans\n",
    "\n",
    "if __name__ == '__main__':\n",
    "    line = input()\n",
    "    result = split_and_join(line)\n",
    "    print(result)"
   ]
  },
  {
   "cell_type": "markdown",
   "id": "3bbcd561",
   "metadata": {},
   "source": [
    "### what's your name"
   ]
  },
  {
   "cell_type": "code",
   "execution_count": null,
   "id": "52a2a64b",
   "metadata": {},
   "outputs": [],
   "source": [
    "def print_full_name(first, last):\n",
    "    print(\"Hello\" ,first,last+\"! You just delved into python.\")\n",
    "\n",
    "if __name__ == '__main__':\n",
    "    first_name = input()\n",
    "    last_name = input()\n",
    "    print_full_name(first_name, last_name)"
   ]
  },
  {
   "cell_type": "markdown",
   "id": "88fad412",
   "metadata": {},
   "source": [
    "### mutations"
   ]
  },
  {
   "cell_type": "code",
   "execution_count": null,
   "id": "eb8af9ae",
   "metadata": {},
   "outputs": [],
   "source": [
    "def mutate_string(string, position, character):\n",
    "    string = string[:int(position)] + character + string[int(position+1):]\n",
    "    return string\n",
    "if __name__ == '__main__':\n",
    "    s = input()\n",
    "    i, c = input().split()\n",
    "    s_new = mutate_string(s, int(i), c)\n",
    "    print(s_new)"
   ]
  },
  {
   "cell_type": "markdown",
   "id": "f4e9f782",
   "metadata": {},
   "source": [
    "### find a string"
   ]
  },
  {
   "cell_type": "code",
   "execution_count": null,
   "id": "ee0173c7",
   "metadata": {},
   "outputs": [],
   "source": [
    "def count_substring(string, sub_string):\n",
    "    return sum(string[i:].startswith(sub_string) for i in range(len(string)))\n",
    "\n",
    "\n",
    "if __name__ == '__main__':\n",
    "    string = input().strip()\n",
    "    sub_string = input().strip()\n",
    "    \n",
    "    count = count_substring(string, sub_string)\n",
    "    print(count)"
   ]
  },
  {
   "cell_type": "markdown",
   "id": "9764b3fa",
   "metadata": {},
   "source": [
    "### string validators"
   ]
  },
  {
   "cell_type": "code",
   "execution_count": null,
   "id": "af91a116",
   "metadata": {},
   "outputs": [],
   "source": [
    "if __name__ == '__main__':\n",
    "    s = input()\n",
    "    for i in range(5):\n",
    "        if s.isalnum():\n",
    "            print(True)\n",
    "        elif s.isalpha():\n",
    "            print(True)\n",
    "        elif s.isdigit():\n",
    "            print(True)\n",
    "        elif s.islower():\n",
    "            print(True)\n",
    "        elif s.isupper():\n",
    "            print(True)\n",
    "        else:\n",
    "            print(False)"
   ]
  },
  {
   "cell_type": "markdown",
   "id": "cdb1e43c",
   "metadata": {},
   "source": [
    "### text alignment"
   ]
  },
  {
   "cell_type": "code",
   "execution_count": null,
   "id": "bb39af90",
   "metadata": {},
   "outputs": [],
   "source": [
    "thickness = int(input()) #This must be an odd number\n",
    "c = 'H'\n",
    "\n",
    "#Top Cone\n",
    "for i in range(thickness):\n",
    "    print((c*i).rjust(thickness-1)+c+(c*i).ljust(thickness-1))\n",
    "\n",
    "#Top Pillars\n",
    "for i in range(thickness+1):\n",
    "    print((c*thickness).center(thickness*2)+(c*thickness).center(thickness*6))\n",
    "\n",
    "#Middle Belt\n",
    "for i in range((thickness+1)//2):\n",
    "    print((c*thickness*5).center(thickness*6))    \n",
    "\n",
    "#Bottom Pillars\n",
    "for i in range(thickness+1):\n",
    "    print((c*thickness).center(thickness*2)+(c*thickness).center(thickness*6))    \n",
    "\n",
    "#Bottom Cone\n",
    "for i in range(thickness):\n",
    "    print(((c*(thickness-i-1)).rjust(thickness)+c+(c*(thickness-i-1)).ljust(thickness)).rjust(thickness*6))"
   ]
  },
  {
   "cell_type": "markdown",
   "id": "71f02dd3",
   "metadata": {},
   "source": [
    "### text wrap"
   ]
  },
  {
   "cell_type": "code",
   "execution_count": null,
   "id": "b859d445",
   "metadata": {},
   "outputs": [],
   "source": [
    "import textwrap\n",
    "\n",
    "def wrap(string, max_width):\n",
    "    for i in range(0,len(string)+1,max_width):\n",
    "        ans = string[i:i+max_width]\n",
    "        if len(ans) == max_width:\n",
    "            print(ans)\n",
    "        else:\n",
    "            return(ans)\n",
    "\n",
    "if __name__ == '__main__':"
   ]
  },
  {
   "cell_type": "markdown",
   "id": "ed453df9",
   "metadata": {},
   "source": [
    "### designer door mat"
   ]
  },
  {
   "cell_type": "code",
   "execution_count": null,
   "id": "c0ad6256",
   "metadata": {},
   "outputs": [],
   "source": [
    "n,m = map(int, input().split())\n",
    "\n",
    "for i in range(1, n, 2):\n",
    "    print(str('.|.' * i).center(m, '-'))\n",
    "    \n",
    "print('WELCOME'.center(m, '-'))\n",
    "\n",
    "for i in range(n-2, -1, -2):\n",
    "    print(str('.|.' * i).center(m, '-'))"
   ]
  },
  {
   "cell_type": "markdown",
   "id": "821513e6",
   "metadata": {},
   "source": [
    "### string formatting"
   ]
  },
  {
   "cell_type": "code",
   "execution_count": null,
   "id": "1ca41a40",
   "metadata": {},
   "outputs": [],
   "source": [
    "def print_formatted(number):\n",
    "    num = format(number,'b')\n",
    "    length = len(num)\n",
    "    for i in range(1,n+1):\n",
    "        octa = format(i,'o')\n",
    "        hexa = format(i,'X')\n",
    "        bina = format(i,'b')\n",
    "        \n",
    "        print(str(i).rjust(length),str(octa).rjust(length),str(hexa).rjust(length),str(bina).rjust(length))\n",
    "        \n",
    "if __name__ == '__main__':\n",
    "    n = int(input())\n",
    "    print_formatted(n)"
   ]
  },
  {
   "cell_type": "markdown",
   "id": "85d29c73",
   "metadata": {},
   "source": [
    "### alphabet rangoli"
   ]
  },
  {
   "cell_type": "code",
   "execution_count": null,
   "id": "e2391a48",
   "metadata": {},
   "outputs": [],
   "source": [
    "def print_rangoli(size):\n",
    "    \n",
    "    alphabets = \"abcdefghijklmnopqrstuvwxyz\"\n",
    "    vals = [alphabets[i] for i in range(size)]\n",
    "    \n",
    "    nums = list(range(size))\n",
    "    nums = nums[:-1]+nums[::-1]\n",
    "    \n",
    "    for i in nums:\n",
    "        var = vals[-(i+1):]\n",
    "        lines = var[::-1]+var[1:]\n",
    "        \n",
    "        print(\"-\".join(lines).center(n*4-3, \"-\"))\n",
    "        \n",
    "        \n",
    "if __name__ == '__main__':\n",
    "    n = int(input())\n",
    "    print_rangoli(n)"
   ]
  },
  {
   "cell_type": "markdown",
   "id": "9a694e50",
   "metadata": {},
   "source": [
    "### capitalize"
   ]
  },
  {
   "cell_type": "code",
   "execution_count": null,
   "id": "f8d1d20a",
   "metadata": {},
   "outputs": [],
   "source": [
    "#!/bin/python3\n",
    "\n",
    "import math\n",
    "import os\n",
    "import random\n",
    "import re\n",
    "import sys\n",
    "def solve(s):\n",
    "    for i in s.split():\n",
    "        s = s.replace(i,i.capitalize())\n",
    "    return s\n",
    "\n",
    "if __name__ == '__main__':\n",
    "    fptr = open(os.environ['OUTPUT_PATH'], 'w')\n",
    "\n",
    "    s = input()\n",
    "\n",
    "    result = solve(s)\n",
    "\n",
    "    fptr.write(result + '\\n')\n",
    "\n",
    "    fptr.close()\n"
   ]
  },
  {
   "cell_type": "markdown",
   "id": "1b69353b",
   "metadata": {},
   "source": [
    "### the minion game"
   ]
  },
  {
   "cell_type": "code",
   "execution_count": null,
   "id": "16a1c177",
   "metadata": {},
   "outputs": [],
   "source": [
    "def minion_game(string):\n",
    "    \n",
    "    vowels = 0\n",
    "    consonants = 0\n",
    "     \n",
    "    for i in range(len(string)):\n",
    "        if string[i] in 'AEIOU':\n",
    "           vowels= vowels + (len(string)-i)\n",
    "        else:\n",
    "           consonants = consonants + (len(string)-i)\n",
    "                \n",
    "    if consonants > vowels:\n",
    "        print('Stuart ' + str(consonants))\n",
    "    elif consonants < vowels:\n",
    "        print('Kevin ' + str(vowels))\n",
    "    else:\n",
    "        print('Draw')\n",
    "\n",
    "if __name__ == '__main__':\n",
    "    s = input()\n",
    "    minion_game(s)"
   ]
  },
  {
   "cell_type": "markdown",
   "id": "f4748602",
   "metadata": {},
   "source": [
    "### merge the tools"
   ]
  },
  {
   "cell_type": "code",
   "execution_count": null,
   "id": "8cb51c77",
   "metadata": {},
   "outputs": [],
   "source": [
    "def merge_the_tools(string, k):\n",
    "\n",
    "    lst = []\n",
    "    len_lst = 0\n",
    "    \n",
    "    for item in string:\n",
    "        len_lst += 1\n",
    "        \n",
    "        if item not in lst:\n",
    "            lst.append(item)\n",
    "            \n",
    "        if len_lst == k:\n",
    "            print (''.join(lst))\n",
    "            \n",
    "            lst = []\n",
    "            len_lst = 0\n",
    "\n",
    "if __name__ == '__main__':"
   ]
  }
 ],
 "metadata": {
  "kernelspec": {
   "display_name": "Python 3 (ipykernel)",
   "language": "python",
   "name": "python3"
  },
  "language_info": {
   "codemirror_mode": {
    "name": "ipython",
    "version": 3
   },
   "file_extension": ".py",
   "mimetype": "text/x-python",
   "name": "python",
   "nbconvert_exporter": "python",
   "pygments_lexer": "ipython3",
   "version": "3.10.8"
  }
 },
 "nbformat": 4,
 "nbformat_minor": 5
}
